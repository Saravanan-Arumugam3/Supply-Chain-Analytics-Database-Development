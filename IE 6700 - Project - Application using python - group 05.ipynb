{
 "cells": [
  {
   "cell_type": "code",
   "execution_count": 5,
   "id": "f5b2204c",
   "metadata": {},
   "outputs": [
    {
     "name": "stdout",
     "output_type": "stream",
     "text": [
      "Connected to MySQL Server version  8.0.31\n",
      "Your connected to database:  ('3pl_tms',)\n"
     ]
    }
   ],
   "source": [
    "#\n",
    "import mysql.connector\n",
    "#\n",
    "from mysql.connector import Error\n",
    "#\n",
    "try:\n",
    " connection = mysql.connector.connect(host='127.0.0.1',\n",
    " database='3pl_tms',\n",
    "user='root',\n",
    "password='123456789',\n",
    "auth_plugin = 'mysql_native_password')\n",
    " if connection.is_connected():\n",
    "  db_Info = connection.get_server_info()\n",
    "  print(\"Connected to MySQL Server version \", db_Info)\n",
    "  cursor = connection.cursor()\n",
    "  cursor.execute(\"select database();\")\n",
    "  record = cursor.fetchone()\n",
    "  print(\"Your connected to database: \", record)\n",
    "#\n",
    "except Error as e:\n",
    " print(\"Error while connecting to MySQL\", e)\n",
    "#you should see the following output\n",
    "#'''Connected to MySQL Server version 8.0.17\n",
    "#Your connected to database: ('classicmodels',)\n",
    "#True\n",
    "#MySQL connection is closed'''\n",
    "#"
   ]
  },
  {
   "cell_type": "code",
   "execution_count": 6,
   "id": "e42dc6bb",
   "metadata": {},
   "outputs": [],
   "source": [
    "import pandas as pd"
   ]
  },
  {
   "cell_type": "code",
   "execution_count": 7,
   "id": "a5b37d87",
   "metadata": {},
   "outputs": [
    {
     "name": "stderr",
     "output_type": "stream",
     "text": [
      "C:\\Users\\sarav\\anaconda3\\lib\\site-packages\\pandas\\io\\sql.py:762: UserWarning: pandas only support SQLAlchemy connectable(engine/connection) ordatabase string URI or sqlite3 DBAPI2 connectionother DBAPI2 objects are not tested, please consider using SQLAlchemy\n",
      "  warnings.warn(\n"
     ]
    },
    {
     "data": {
      "text/html": [
       "<div>\n",
       "<style scoped>\n",
       "    .dataframe tbody tr th:only-of-type {\n",
       "        vertical-align: middle;\n",
       "    }\n",
       "\n",
       "    .dataframe tbody tr th {\n",
       "        vertical-align: top;\n",
       "    }\n",
       "\n",
       "    .dataframe thead th {\n",
       "        text-align: right;\n",
       "    }\n",
       "</style>\n",
       "<table border=\"1\" class=\"dataframe\">\n",
       "  <thead>\n",
       "    <tr style=\"text-align: right;\">\n",
       "      <th></th>\n",
       "      <th>customer_id</th>\n",
       "      <th>customer_name</th>\n",
       "      <th>address</th>\n",
       "      <th>poc</th>\n",
       "    </tr>\n",
       "  </thead>\n",
       "  <tbody>\n",
       "    <tr>\n",
       "      <th>0</th>\n",
       "      <td>1</td>\n",
       "      <td>Macejkovic, Goodwin and Mayer</td>\n",
       "      <td>2947 Rice Path\\nDickinsonfort, AZ 75231</td>\n",
       "      <td>Damaris Waters</td>\n",
       "    </tr>\n",
       "    <tr>\n",
       "      <th>1</th>\n",
       "      <td>100</td>\n",
       "      <td>Parisian PLC</td>\n",
       "      <td>986 Maida Flats\\nWest Camrynport, NJ 47897</td>\n",
       "      <td>Vernon Keeling I</td>\n",
       "    </tr>\n",
       "    <tr>\n",
       "      <th>2</th>\n",
       "      <td>103</td>\n",
       "      <td>Pfannerstill-Hermann</td>\n",
       "      <td>005 Emmalee Dale Suite 681\\nSouth Cloyd, CO 81...</td>\n",
       "      <td>Beatrice Altenwerth</td>\n",
       "    </tr>\n",
       "    <tr>\n",
       "      <th>3</th>\n",
       "      <td>114</td>\n",
       "      <td>Bartell-Wisoky</td>\n",
       "      <td>89433 Cormier Overpass\\nSouth Lavada, VT 40757...</td>\n",
       "      <td>Mrs. Juliana Kirlin</td>\n",
       "    </tr>\n",
       "    <tr>\n",
       "      <th>4</th>\n",
       "      <td>120</td>\n",
       "      <td>Graham PLC</td>\n",
       "      <td>9872 Kevon Mountains\\nEast Shaynefort, CA 82358</td>\n",
       "      <td>Eva O'Reilly</td>\n",
       "    </tr>\n",
       "    <tr>\n",
       "      <th>...</th>\n",
       "      <td>...</td>\n",
       "      <td>...</td>\n",
       "      <td>...</td>\n",
       "      <td>...</td>\n",
       "    </tr>\n",
       "    <tr>\n",
       "      <th>94</th>\n",
       "      <td>97</td>\n",
       "      <td>Schuppe, Rath and Heidenreich</td>\n",
       "      <td>404 Mertie Isle\\nJerodton, IA 94279-5149</td>\n",
       "      <td>Dr. Uriah Pfannersti</td>\n",
       "    </tr>\n",
       "    <tr>\n",
       "      <th>95</th>\n",
       "      <td>970</td>\n",
       "      <td>Medhurst, Farrell and Ebert</td>\n",
       "      <td>95099 Maia Harbors Suite 778\\nBeahanville, WV ...</td>\n",
       "      <td>June Tromp</td>\n",
       "    </tr>\n",
       "    <tr>\n",
       "      <th>96</th>\n",
       "      <td>980</td>\n",
       "      <td>Stokes, Leuschke and Gerhold</td>\n",
       "      <td>4865 Langworth Walks Apt. 269\\nPalmamouth, MS ...</td>\n",
       "      <td>Parker Bednar</td>\n",
       "    </tr>\n",
       "    <tr>\n",
       "      <th>97</th>\n",
       "      <td>985</td>\n",
       "      <td>Simonis-Armstrong</td>\n",
       "      <td>60120 Kovacek Extension\\nLake Chazport, IL 29252</td>\n",
       "      <td>Prof. Carlotta VonRu</td>\n",
       "    </tr>\n",
       "    <tr>\n",
       "      <th>98</th>\n",
       "      <td>99</td>\n",
       "      <td>Kozey Ltd</td>\n",
       "      <td>13449 Kendrick Underpass\\nFayeside, LA 18655</td>\n",
       "      <td>Carlos Powlowski</td>\n",
       "    </tr>\n",
       "  </tbody>\n",
       "</table>\n",
       "<p>99 rows × 4 columns</p>\n",
       "</div>"
      ],
      "text/plain": [
       "   customer_id                  customer_name  \\\n",
       "0            1  Macejkovic, Goodwin and Mayer   \n",
       "1          100                   Parisian PLC   \n",
       "2          103           Pfannerstill-Hermann   \n",
       "3          114                 Bartell-Wisoky   \n",
       "4          120                     Graham PLC   \n",
       "..         ...                            ...   \n",
       "94          97  Schuppe, Rath and Heidenreich   \n",
       "95         970    Medhurst, Farrell and Ebert   \n",
       "96         980   Stokes, Leuschke and Gerhold   \n",
       "97         985              Simonis-Armstrong   \n",
       "98          99                      Kozey Ltd   \n",
       "\n",
       "                                              address                   poc  \n",
       "0             2947 Rice Path\\nDickinsonfort, AZ 75231        Damaris Waters  \n",
       "1          986 Maida Flats\\nWest Camrynport, NJ 47897      Vernon Keeling I  \n",
       "2   005 Emmalee Dale Suite 681\\nSouth Cloyd, CO 81...  Beatrice Altenwerth   \n",
       "3   89433 Cormier Overpass\\nSouth Lavada, VT 40757...  Mrs. Juliana Kirlin   \n",
       "4     9872 Kevon Mountains\\nEast Shaynefort, CA 82358          Eva O'Reilly  \n",
       "..                                                ...                   ...  \n",
       "94           404 Mertie Isle\\nJerodton, IA 94279-5149  Dr. Uriah Pfannersti  \n",
       "95  95099 Maia Harbors Suite 778\\nBeahanville, WV ...            June Tromp  \n",
       "96  4865 Langworth Walks Apt. 269\\nPalmamouth, MS ...         Parker Bednar  \n",
       "97   60120 Kovacek Extension\\nLake Chazport, IL 29252  Prof. Carlotta VonRu  \n",
       "98       13449 Kendrick Underpass\\nFayeside, LA 18655      Carlos Powlowski  \n",
       "\n",
       "[99 rows x 4 columns]"
      ]
     },
     "execution_count": 7,
     "metadata": {},
     "output_type": "execute_result"
    }
   ],
   "source": [
    "df = pd.read_sql_query(\"SELECT * FROM customer\", connection)\n",
    "df"
   ]
  },
  {
   "cell_type": "code",
   "execution_count": 15,
   "id": "6acb4003",
   "metadata": {},
   "outputs": [
    {
     "data": {
      "text/html": [
       "<div>\n",
       "<style scoped>\n",
       "    .dataframe tbody tr th:only-of-type {\n",
       "        vertical-align: middle;\n",
       "    }\n",
       "\n",
       "    .dataframe tbody tr th {\n",
       "        vertical-align: top;\n",
       "    }\n",
       "\n",
       "    .dataframe thead th {\n",
       "        text-align: right;\n",
       "    }\n",
       "</style>\n",
       "<table border=\"1\" class=\"dataframe\">\n",
       "  <thead>\n",
       "    <tr style=\"text-align: right;\">\n",
       "      <th></th>\n",
       "      <th>vendor_id</th>\n",
       "      <th>Number_of_Vehicles</th>\n",
       "      <th>Total_Capacity</th>\n",
       "    </tr>\n",
       "  </thead>\n",
       "  <tbody>\n",
       "    <tr>\n",
       "      <th>0</th>\n",
       "      <td>310</td>\n",
       "      <td>1</td>\n",
       "      <td>15.0</td>\n",
       "    </tr>\n",
       "    <tr>\n",
       "      <th>1</th>\n",
       "      <td>410</td>\n",
       "      <td>1</td>\n",
       "      <td>10.0</td>\n",
       "    </tr>\n",
       "    <tr>\n",
       "      <th>2</th>\n",
       "      <td>200</td>\n",
       "      <td>1</td>\n",
       "      <td>13.0</td>\n",
       "    </tr>\n",
       "    <tr>\n",
       "      <th>3</th>\n",
       "      <td>500</td>\n",
       "      <td>1</td>\n",
       "      <td>12.0</td>\n",
       "    </tr>\n",
       "    <tr>\n",
       "      <th>4</th>\n",
       "      <td>539</td>\n",
       "      <td>1</td>\n",
       "      <td>5.0</td>\n",
       "    </tr>\n",
       "  </tbody>\n",
       "</table>\n",
       "</div>"
      ],
      "text/plain": [
       "  vendor_id  Number_of_Vehicles  Total_Capacity\n",
       "0       310                   1            15.0\n",
       "1       410                   1            10.0\n",
       "2       200                   1            13.0\n",
       "3       500                   1            12.0\n",
       "4       539                   1             5.0"
      ]
     },
     "execution_count": 15,
     "metadata": {},
     "output_type": "execute_result"
    }
   ],
   "source": [
    "df2 = pd.read_sql_query(\"SELECT vendor.vendor_id, count(vehicle.vehicle_id) as Number_of_Vehicles, SUM(vehicle.capacity) as Total_Capacity FROM vendor INNER JOIN vehicle ON vendor.vendor_id = vehicle.vendor_id GROUP BY vendor.vendor_id\", connection)\n",
    "df2.head()"
   ]
  },
  {
   "cell_type": "code",
   "execution_count": 16,
   "id": "7f2268da",
   "metadata": {},
   "outputs": [
    {
     "name": "stderr",
     "output_type": "stream",
     "text": [
      "C:\\Users\\sarav\\anaconda3\\lib\\site-packages\\pandas\\io\\sql.py:762: UserWarning: pandas only support SQLAlchemy connectable(engine/connection) ordatabase string URI or sqlite3 DBAPI2 connectionother DBAPI2 objects are not tested, please consider using SQLAlchemy\n",
      "  warnings.warn(\n"
     ]
    },
    {
     "data": {
      "text/html": [
       "<div>\n",
       "<style scoped>\n",
       "    .dataframe tbody tr th:only-of-type {\n",
       "        vertical-align: middle;\n",
       "    }\n",
       "\n",
       "    .dataframe tbody tr th {\n",
       "        vertical-align: top;\n",
       "    }\n",
       "\n",
       "    .dataframe thead th {\n",
       "        text-align: right;\n",
       "    }\n",
       "</style>\n",
       "<table border=\"1\" class=\"dataframe\">\n",
       "  <thead>\n",
       "    <tr style=\"text-align: right;\">\n",
       "      <th></th>\n",
       "      <th>customer_id</th>\n",
       "      <th>contracts</th>\n",
       "    </tr>\n",
       "  </thead>\n",
       "  <tbody>\n",
       "    <tr>\n",
       "      <th>0</th>\n",
       "      <td>100</td>\n",
       "      <td>3</td>\n",
       "    </tr>\n",
       "    <tr>\n",
       "      <th>1</th>\n",
       "      <td>103</td>\n",
       "      <td>3</td>\n",
       "    </tr>\n",
       "    <tr>\n",
       "      <th>2</th>\n",
       "      <td>114</td>\n",
       "      <td>3</td>\n",
       "    </tr>\n",
       "    <tr>\n",
       "      <th>3</th>\n",
       "      <td>120</td>\n",
       "      <td>3</td>\n",
       "    </tr>\n",
       "    <tr>\n",
       "      <th>4</th>\n",
       "      <td>136</td>\n",
       "      <td>3</td>\n",
       "    </tr>\n",
       "    <tr>\n",
       "      <th>...</th>\n",
       "      <td>...</td>\n",
       "      <td>...</td>\n",
       "    </tr>\n",
       "    <tr>\n",
       "      <th>93</th>\n",
       "      <td>97</td>\n",
       "      <td>2</td>\n",
       "    </tr>\n",
       "    <tr>\n",
       "      <th>94</th>\n",
       "      <td>970</td>\n",
       "      <td>2</td>\n",
       "    </tr>\n",
       "    <tr>\n",
       "      <th>95</th>\n",
       "      <td>980</td>\n",
       "      <td>2</td>\n",
       "    </tr>\n",
       "    <tr>\n",
       "      <th>96</th>\n",
       "      <td>985</td>\n",
       "      <td>2</td>\n",
       "    </tr>\n",
       "    <tr>\n",
       "      <th>97</th>\n",
       "      <td>99</td>\n",
       "      <td>2</td>\n",
       "    </tr>\n",
       "  </tbody>\n",
       "</table>\n",
       "<p>98 rows × 2 columns</p>\n",
       "</div>"
      ],
      "text/plain": [
       "   customer_id  contracts\n",
       "0          100          3\n",
       "1          103          3\n",
       "2          114          3\n",
       "3          120          3\n",
       "4          136          3\n",
       "..         ...        ...\n",
       "93          97          2\n",
       "94         970          2\n",
       "95         980          2\n",
       "96         985          2\n",
       "97          99          2\n",
       "\n",
       "[98 rows x 2 columns]"
      ]
     },
     "execution_count": 16,
     "metadata": {},
     "output_type": "execute_result"
    }
   ],
   "source": [
    "contracts_per_customer = pd.read_sql_query(\"SELECT customer_id, COUNT(*) as contracts FROM contract GROUP BY customer_id\", connection)\n",
    "contracts_per_customer"
   ]
  },
  {
   "cell_type": "code",
   "execution_count": 18,
   "id": "4cfc804d",
   "metadata": {},
   "outputs": [
    {
     "name": "stderr",
     "output_type": "stream",
     "text": [
      "C:\\Users\\sarav\\anaconda3\\lib\\site-packages\\pandas\\io\\sql.py:762: UserWarning: pandas only support SQLAlchemy connectable(engine/connection) ordatabase string URI or sqlite3 DBAPI2 connectionother DBAPI2 objects are not tested, please consider using SQLAlchemy\n",
      "  warnings.warn(\n"
     ]
    },
    {
     "data": {
      "text/html": [
       "<div>\n",
       "<style scoped>\n",
       "    .dataframe tbody tr th:only-of-type {\n",
       "        vertical-align: middle;\n",
       "    }\n",
       "\n",
       "    .dataframe tbody tr th {\n",
       "        vertical-align: top;\n",
       "    }\n",
       "\n",
       "    .dataframe thead th {\n",
       "        text-align: right;\n",
       "    }\n",
       "</style>\n",
       "<table border=\"1\" class=\"dataframe\">\n",
       "  <thead>\n",
       "    <tr style=\"text-align: right;\">\n",
       "      <th></th>\n",
       "      <th>capacity</th>\n",
       "    </tr>\n",
       "  </thead>\n",
       "  <tbody>\n",
       "    <tr>\n",
       "      <th>0</th>\n",
       "      <td>15</td>\n",
       "    </tr>\n",
       "    <tr>\n",
       "      <th>1</th>\n",
       "      <td>10</td>\n",
       "    </tr>\n",
       "    <tr>\n",
       "      <th>2</th>\n",
       "      <td>13</td>\n",
       "    </tr>\n",
       "    <tr>\n",
       "      <th>3</th>\n",
       "      <td>12</td>\n",
       "    </tr>\n",
       "    <tr>\n",
       "      <th>4</th>\n",
       "      <td>5</td>\n",
       "    </tr>\n",
       "  </tbody>\n",
       "</table>\n",
       "</div>"
      ],
      "text/plain": [
       "   capacity\n",
       "0        15\n",
       "1        10\n",
       "2        13\n",
       "3        12\n",
       "4         5"
      ]
     },
     "execution_count": 18,
     "metadata": {},
     "output_type": "execute_result"
    }
   ],
   "source": [
    "import matplotlib.pyplot as plt\n",
    "df5 = pd.read_sql_query(\"SELECT capacity FROM vehicle\", connection)\n",
    "df5.head()\n"
   ]
  },
  {
   "cell_type": "code",
   "execution_count": 19,
   "id": "d477f6a7",
   "metadata": {},
   "outputs": [
    {
     "data": {
      "image/png": "[encoded data removed]",
      "text/plain": [
       "<Figure size 640x480 with 1 Axes>"
      ]
     },
     "metadata": {},
     "output_type": "display_data"
    }
   ],
   "source": [
    "## count of vehicles per capacity\n",
    "df5.value_counts(sort = False).plot.bar()\n",
    "plt.show()"
   ]
  },
  {
   "cell_type": "code",
   "execution_count": 20,
   "id": "5bf01915",
   "metadata": {},
   "outputs": [
    {
     "name": "stderr",
     "output_type": "stream",
     "text": [
      "C:\\Users\\sarav\\anaconda3\\lib\\site-packages\\pandas\\io\\sql.py:762: UserWarning: pandas only support SQLAlchemy connectable(engine/connection) ordatabase string URI or sqlite3 DBAPI2 connectionother DBAPI2 objects are not tested, please consider using SQLAlchemy\n",
      "  warnings.warn(\n"
     ]
    },
    {
     "data": {
      "text/html": [
       "<div>\n",
       "<style scoped>\n",
       "    .dataframe tbody tr th:only-of-type {\n",
       "        vertical-align: middle;\n",
       "    }\n",
       "\n",
       "    .dataframe tbody tr th {\n",
       "        vertical-align: top;\n",
       "    }\n",
       "\n",
       "    .dataframe thead th {\n",
       "        text-align: right;\n",
       "    }\n",
       "</style>\n",
       "<table border=\"1\" class=\"dataframe\">\n",
       "  <thead>\n",
       "    <tr style=\"text-align: right;\">\n",
       "      <th></th>\n",
       "      <th>line_of_business</th>\n",
       "      <th>count</th>\n",
       "    </tr>\n",
       "  </thead>\n",
       "  <tbody>\n",
       "    <tr>\n",
       "      <th>0</th>\n",
       "      <td>TRAN</td>\n",
       "      <td>91</td>\n",
       "    </tr>\n",
       "    <tr>\n",
       "      <th>1</th>\n",
       "      <td>WARE</td>\n",
       "      <td>80</td>\n",
       "    </tr>\n",
       "    <tr>\n",
       "      <th>2</th>\n",
       "      <td>SOUR</td>\n",
       "      <td>65</td>\n",
       "    </tr>\n",
       "  </tbody>\n",
       "</table>\n",
       "</div>"
      ],
      "text/plain": [
       "  line_of_business  count\n",
       "0             TRAN     91\n",
       "1             WARE     80\n",
       "2             SOUR     65"
      ]
     },
     "execution_count": 20,
     "metadata": {},
     "output_type": "execute_result"
    }
   ],
   "source": [
    "df = pd.read_sql_query(\"SELECT line_of_business, count(*) as count FROM contract GROUP BY line_of_business\", connection)\n",
    "df\n"
   ]
  },
  {
   "cell_type": "code",
   "execution_count": 24,
   "id": "4aed6f58",
   "metadata": {},
   "outputs": [
    {
     "data": {
      "image/png": "[encoded data removed]",
      "text/plain": [
       "<Figure size 1200x600 with 1 Axes>"
      ]
     },
     "metadata": {},
     "output_type": "display_data"
    }
   ],
   "source": [
    "fig, ax = plt.subplots(figsize = (12, 6))\n",
    "ax.barh(df['line_of_business'], df['count'], label = 'Count of Contracts')\n",
    "ax.legend()\n",
    "plt.xticks(rotation = 10, wrap = True)\n",
    "plt.show()"
   ]
  },
  {
   "cell_type": "code",
   "execution_count": null,
   "id": "d567bcd7",
   "metadata": {},
   "outputs": [],
   "source": []
  }
 ],
 "metadata": {
  "kernelspec": {
   "display_name": "Python 3 (ipykernel)",
   "language": "python",
   "name": "python3"
  },
  "language_info": {
   "codemirror_mode": {
    "name": "ipython",
    "version": 3
   },
   "file_extension": ".py",
   "mimetype": "text/x-python",
   "name": "python",
   "nbconvert_exporter": "python",
   "pygments_lexer": "ipython3",
   "version": "3.9.13"
  }
 },
 "nbformat": 4,
 "nbformat_minor": 5
}
